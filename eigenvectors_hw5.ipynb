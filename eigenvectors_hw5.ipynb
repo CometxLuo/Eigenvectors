{
 "cells": [
  {
   "cell_type": "markdown",
   "id": "79805625",
   "metadata": {},
   "source": [
    "# Eigenvalues and eigenvectors"
   ]
  },
  {
   "cell_type": "markdown",
   "id": "c1333002",
   "metadata": {},
   "source": [
    "The goal of this notebook is to show how to compute eigenvalues and eigenvectors of a square matrix using numpy."
   ]
  },
  {
   "cell_type": "code",
   "execution_count": 1,
   "id": "7315b0ab",
   "metadata": {},
   "outputs": [],
   "source": [
    "import numpy as np"
   ]
  },
  {
   "cell_type": "markdown",
   "id": "adef1cb6",
   "metadata": {},
   "source": [
    "Here we define a sample matrix:"
   ]
  },
  {
   "cell_type": "code",
   "execution_count": 2,
   "id": "d85ab04a",
   "metadata": {},
   "outputs": [],
   "source": [
    "A = np.array([[8, 2, 5, 8],\n",
    "              [2, 9, 8, 5],\n",
    "              [5, 8, 8, 9],\n",
    "              [8, 5, 9, 8]])"
   ]
  },
  {
   "cell_type": "markdown",
   "id": "02ba626f",
   "metadata": {},
   "source": [
    "The function `np.linalg.eig` returns a tuple giving eigenvalues and eigenvectors of a matrix:"
   ]
  },
  {
   "cell_type": "code",
   "execution_count": 3,
   "id": "7c12012d",
   "metadata": {},
   "outputs": [],
   "source": [
    "eigenvals, eigenvects = np.linalg.eig(A)"
   ]
  },
  {
   "cell_type": "markdown",
   "id": "7928687d",
   "metadata": {},
   "source": [
    "Eigenvalues of the matrix `A`:"
   ]
  },
  {
   "cell_type": "code",
   "execution_count": 4,
   "id": "93e31c5d",
   "metadata": {},
   "outputs": [
    {
     "name": "stdout",
     "output_type": "stream",
     "text": [
      "[27.15475075  7.567203    0.33785338 -2.05980714]\n"
     ]
    }
   ],
   "source": [
    "print(eigenvals)"
   ]
  },
  {
   "cell_type": "markdown",
   "id": "54cd7dd1",
   "metadata": {},
   "source": [
    "`eigenvects` is as matrix of eigenvectors of `A` with each column giving one eigenvector:"
   ]
  },
  {
   "cell_type": "code",
   "execution_count": 5,
   "id": "f570f5e2",
   "metadata": {},
   "outputs": [
    {
     "name": "stdout",
     "output_type": "stream",
     "text": [
      "[[ 0.42453415  0.64417668  0.5774985   0.26702554]\n",
      " [ 0.44593734 -0.68865353  0.53436729 -0.2033416 ]\n",
      " [ 0.55832431 -0.202712   -0.48210397  0.64401676]\n",
      " [ 0.55604371  0.26400866 -0.38538662 -0.68745325]]\n"
     ]
    }
   ],
   "source": [
    "print(eigenvects)"
   ]
  },
  {
   "cell_type": "markdown",
   "id": "207d3299",
   "metadata": {},
   "source": [
    "The first column of is an eigenvector corresponding to the first eigenvalue, the seconds columns is an eigenvector corresponding to the second eigenvalue etc. To verify, lets multiply the first column of `eigenvects` by the matrix A:"
   ]
  },
  {
   "cell_type": "code",
   "execution_count": 6,
   "id": "231cd2d4",
   "metadata": {},
   "outputs": [
    {
     "data": {
      "text/plain": [
       "array([11.52811913, 12.10931739, 15.16115735, 15.09922838])"
      ]
     },
     "execution_count": 6,
     "metadata": {},
     "output_type": "execute_result"
    }
   ],
   "source": [
    "A@eigenvects[:, 0]"
   ]
  },
  {
   "cell_type": "markdown",
   "id": "4e855178",
   "metadata": {},
   "source": [
    "Notice the result is the same as multiplying this columns by the first eigenvalue: "
   ]
  },
  {
   "cell_type": "code",
   "execution_count": 7,
   "id": "1a26fc93",
   "metadata": {},
   "outputs": [
    {
     "data": {
      "text/plain": [
       "array([11.52811913, 12.10931739, 15.16115735, 15.09922838])"
      ]
     },
     "execution_count": 7,
     "metadata": {},
     "output_type": "execute_result"
    }
   ],
   "source": [
    "eigenvals[0]*eigenvects[:, 0]"
   ]
  },
  {
   "cell_type": "markdown",
   "id": "c9c43050",
   "metadata": {},
   "source": [
    "**Note** All eigenvectors returned by `np.linalg.eig` are vectors of length 1. "
   ]
  },
  {
   "cell_type": "markdown",
   "id": "ace18983",
   "metadata": {},
   "source": [
    "## Scientific notation\n",
    "\n",
    "If eigenvalues or eigenvectors computed by `np.linalg.eig` involve small or large numbers, numpy will display them using the scientific notation. For example, \n",
    "here are eigenvales of the matrix `0.0001*A`:"
   ]
  },
  {
   "cell_type": "code",
   "execution_count": 8,
   "id": "d119f73a",
   "metadata": {},
   "outputs": [
    {
     "name": "stdout",
     "output_type": "stream",
     "text": [
      "[ 2.71547508e-03  7.56720300e-04  3.37853384e-05 -2.05980714e-04]\n"
     ]
    }
   ],
   "source": [
    "eigenvals, eigenvects = np.linalg.eig(0.0001*A)\n",
    "print(eigenvals)"
   ]
  },
  {
   "cell_type": "markdown",
   "id": "d48b3a35",
   "metadata": {},
   "source": [
    "The expression `2.71547508e-03` represents the number  $2.71547508\\cdot 10^{-3} = 0.00271547508$. In the same way, `2.71547508e+03` would represent the number  $2.71547508\\cdot 10^{3} = 2715.47508$."
   ]
  },
  {
   "cell_type": "code",
   "execution_count": 9,
   "id": "2fdcd454",
   "metadata": {},
   "outputs": [],
   "source": [
    "L = np.array([[ 3,  0,  0, -1,  0,  0, -1,  0, -1,  0],\n",
    "              [ 0,  3,  0, -1, -1,  0,  0, -1,  0,  0],\n",
    "              [ 0,  0,  3,  0, -1, -1,  0,  0,  0, -1],\n",
    "              [-1, -1,  0,  4,  0,  0, -1,  0, -1,  0],\n",
    "              [ 0, -1, -1,  0,  4, -1,  0, -1,  0,  0],\n",
    "              [ 0,  0, -1,  0, -1,  4,  0, -1,  0, -1],\n",
    "              [-1,  0,  0, -1,  0,  0,  2,  0,  0,  0],\n",
    "              [ 0, -1,  0,  0, -1, -1,  0,  4,  0, -1],\n",
    "              [-1,  0,  0, -1,  0,  0,  0,  0,  2,  0],\n",
    "              [ 0,  0, -1,  0,  0, -1,  0, -1,  0,  3]])"
   ]
  },
  {
   "cell_type": "code",
   "execution_count": 10,
   "id": "e4b71cf7",
   "metadata": {},
   "outputs": [],
   "source": [
    "eigenvals, eigenvects = np.linalg.eig(L)"
   ]
  },
  {
   "cell_type": "code",
   "execution_count": 11,
   "id": "5dcb1f98",
   "metadata": {},
   "outputs": [
    {
     "name": "stdout",
     "output_type": "stream",
     "text": [
      "0.24846792845247026\n"
     ]
    }
   ],
   "source": [
    "print(eigenvals[1])"
   ]
  },
  {
   "cell_type": "code",
   "execution_count": 12,
   "id": "49dbe652",
   "metadata": {},
   "outputs": [
    {
     "name": "stdout",
     "output_type": "stream",
     "text": [
      "[-0.40240673  0.072676    0.31607615 -0.30242156  0.25119595  0.30242156\n",
      " -0.40240673  0.25119595 -0.40240673  0.31607615]\n"
     ]
    }
   ],
   "source": [
    "print(eigenvects[:,1])"
   ]
  },
  {
   "cell_type": "code",
   "execution_count": 13,
   "id": "025c4d25",
   "metadata": {},
   "outputs": [
    {
     "data": {
      "text/plain": [
       "array([-0.40240673, -0.40240673, -0.40240673, -0.30242156,  0.072676  ,\n",
       "        0.25119595,  0.25119595,  0.30242156,  0.31607615,  0.31607615])"
      ]
     },
     "execution_count": 13,
     "metadata": {},
     "output_type": "execute_result"
    }
   ],
   "source": [
    "second_v = np.sort(eigenvects[:,1])\n",
    "second_v"
   ]
  },
  {
   "cell_type": "markdown",
   "id": "4fca00f9",
   "metadata": {},
   "source": [
    "### K = $4$"
   ]
  },
  {
   "cell_type": "code",
   "execution_count": 14,
   "id": "dc190751",
   "metadata": {},
   "outputs": [
    {
     "data": {
      "text/plain": [
       "1.5096417488627245"
      ]
     },
     "execution_count": 14,
     "metadata": {},
     "output_type": "execute_result"
    }
   ],
   "source": [
    "sum_x_jk = sum(-second_v[0:4])\n",
    "sum_x_jk"
   ]
  },
  {
   "cell_type": "code",
   "execution_count": 15,
   "id": "d4aec070",
   "metadata": {},
   "outputs": [
    {
     "data": {
      "text/plain": [
       "1.1857698057657784"
      ]
     },
     "execution_count": 15,
     "metadata": {},
     "output_type": "execute_result"
    }
   ],
   "source": [
    "sum_x_ik = sum(second_v[6:])\n",
    "sum_x_ik"
   ]
  },
  {
   "cell_type": "code",
   "execution_count": 16,
   "id": "fd152bb9",
   "metadata": {},
   "outputs": [
    {
     "data": {
      "text/plain": [
       "True"
      ]
     },
     "execution_count": 16,
     "metadata": {},
     "output_type": "execute_result"
    }
   ],
   "source": [
    "sum_x_ik < sum_x_jk"
   ]
  },
  {
   "cell_type": "markdown",
   "id": "5596a768",
   "metadata": {},
   "source": [
    "### K = $6$"
   ]
  },
  {
   "cell_type": "code",
   "execution_count": 17,
   "id": "9998eef8",
   "metadata": {},
   "outputs": [
    {
     "data": {
      "text/plain": [
       "1.1857698057657773"
      ]
     },
     "execution_count": 17,
     "metadata": {},
     "output_type": "execute_result"
    }
   ],
   "source": [
    "sum_x_jk = sum(-second_v[0:6])\n",
    "sum_x_jk"
   ]
  },
  {
   "cell_type": "code",
   "execution_count": 18,
   "id": "1cc75b7b",
   "metadata": {},
   "outputs": [
    {
     "data": {
      "text/plain": [
       "1.5096417488627258"
      ]
     },
     "execution_count": 18,
     "metadata": {},
     "output_type": "execute_result"
    }
   ],
   "source": [
    "sum_x_ik = sum(second_v[4:])\n",
    "sum_x_ik"
   ]
  },
  {
   "cell_type": "code",
   "execution_count": 19,
   "id": "f428d25c",
   "metadata": {},
   "outputs": [
    {
     "data": {
      "text/plain": [
       "True"
      ]
     },
     "execution_count": 19,
     "metadata": {},
     "output_type": "execute_result"
    }
   ],
   "source": [
    "sum_x_ik > sum_x_jk"
   ]
  },
  {
   "cell_type": "code",
   "execution_count": null,
   "id": "d635f76a",
   "metadata": {},
   "outputs": [],
   "source": []
  },
  {
   "cell_type": "code",
   "execution_count": null,
   "id": "a6a65ae1",
   "metadata": {},
   "outputs": [],
   "source": []
  },
  {
   "cell_type": "code",
   "execution_count": null,
   "id": "c53ead61",
   "metadata": {},
   "outputs": [],
   "source": []
  },
  {
   "cell_type": "code",
   "execution_count": 20,
   "id": "654b04ff",
   "metadata": {},
   "outputs": [
    {
     "data": {
      "text/plain": [
       "array([-0.40240673, -0.40240673, -0.40240673, -0.30242156])"
      ]
     },
     "execution_count": 20,
     "metadata": {},
     "output_type": "execute_result"
    }
   ],
   "source": [
    "second_v[0:4]"
   ]
  },
  {
   "cell_type": "code",
   "execution_count": 21,
   "id": "4c0285da",
   "metadata": {},
   "outputs": [
    {
     "data": {
      "text/plain": [
       "array([0.25119595, 0.30242156, 0.31607615, 0.31607615])"
      ]
     },
     "execution_count": 21,
     "metadata": {},
     "output_type": "execute_result"
    }
   ],
   "source": [
    "second_v[6:]"
   ]
  },
  {
   "cell_type": "code",
   "execution_count": 22,
   "id": "26de0d00",
   "metadata": {},
   "outputs": [],
   "source": [
    "A = [[18,3,11,-2],\n",
    "     [3,18,-2,11],\n",
    "     [11,-2,18,3],\n",
    "     [-2,11,3,18]]"
   ]
  },
  {
   "cell_type": "code",
   "execution_count": 23,
   "id": "f18bcb3d",
   "metadata": {},
   "outputs": [],
   "source": [
    "eigenvals, eigenvects = np.linalg.eig(A)"
   ]
  },
  {
   "cell_type": "code",
   "execution_count": 24,
   "id": "344b48c6",
   "metadata": {},
   "outputs": [
    {
     "data": {
      "text/plain": [
       "array([ 2., 12., 30., 28.])"
      ]
     },
     "execution_count": 24,
     "metadata": {},
     "output_type": "execute_result"
    }
   ],
   "source": [
    "eigenvals"
   ]
  },
  {
   "cell_type": "code",
   "execution_count": null,
   "id": "40afd5d8",
   "metadata": {},
   "outputs": [],
   "source": []
  }
 ],
 "metadata": {
  "kernelspec": {
   "display_name": "Python 3 (ipykernel)",
   "language": "python",
   "name": "python3"
  },
  "language_info": {
   "codemirror_mode": {
    "name": "ipython",
    "version": 3
   },
   "file_extension": ".py",
   "mimetype": "text/x-python",
   "name": "python",
   "nbconvert_exporter": "python",
   "pygments_lexer": "ipython3",
   "version": "3.9.13"
  }
 },
 "nbformat": 4,
 "nbformat_minor": 5
}
